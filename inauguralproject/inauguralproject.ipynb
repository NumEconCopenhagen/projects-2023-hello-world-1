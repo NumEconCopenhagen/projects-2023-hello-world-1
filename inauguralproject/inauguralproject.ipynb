{
 "cells": [
  {
   "cell_type": "code",
   "execution_count": null,
   "metadata": {},
   "outputs": [],
   "source": [
    "\n",
    "import numpy as np\n",
    "from types import SimpleNamespace\n",
    "from scipy import optimize\n",
    "par =  SimpleNamespace()\n",
    "sol = SimpleNamespace()\n",
    "opt = SimpleNamespace()\n",
    "# autoreload modules when code is run. Otherwise, python will not see recent changes. \n",
    "%load_ext autoreload\n",
    "%autoreload 2\n",
    "from inaguralproject import HouseholdSpecializationModelClass"
   ]
  },
  {
   "attachments": {},
   "cell_type": "markdown",
   "metadata": {},
   "source": [
    "## Question 1 - HF/HM\n",
    "In the inaugural project we are considering household with a male and a female member. Where we are illustrating how the relative hours worked by the female changes compared to the male due to variations of $\\alpha$ and $\\sigma$. In Question 1 we are illustrating $\\frac{H_F}{H_M}$ for $\\alpha \\in [0.25,0.5,0.75]$ and $\\sigma = [0.5, 1.0, 1.5]$.  "
   ]
  },
  {
   "cell_type": "code",
   "execution_count": null,
   "metadata": {},
   "outputs": [],
   "source": [
    "%matplotlib inline\n",
    "from mpl_toolkits.mplot3d import Axes3D # Used implictely when doing 3D plots\n",
    "import matplotlib.pyplot as plt # baseline module\n",
    "from matplotlib import cm # for colormaps\n",
    "HHS = HouseholdSpecializationModelClass()\n",
    "N = 3\n",
    "shape_tuble = (N,N)\n",
    "alphalist = (0.25,0.50,0.75)\n",
    "sigmalist = (0.5,1.0,1.5)\n",
    "\n",
    "alpha_vec = np.empty(shape_tuble)\n",
    "sigma_vec = np.empty(shape_tuble)\n",
    "HFHM_vec = np.empty(shape_tuble)\n",
    "\n",
    "\n",
    "for i, a in enumerate(alphalist):\n",
    "    for j, s in enumerate(sigmalist):\n",
    "        HHS.par.alpha = a\n",
    "        HHS.par.sigma = s\n",
    "        z = HHS.solve_discrete()\n",
    "        HFHM = z.HF/z.HM\n",
    "        alpha_vec[i,j] = a\n",
    "        sigma_vec[i,j] = s\n",
    "        HFHM_vec[i,j] = HFHM\n",
    "     #print(HHS.solve_discrete(do_print=True))\n",
    "#print(a)\n",
    "#print(f'LM = {HHS.opt.LM:.3f}')\n",
    "fig = plt.figure() # create the figure\n",
    "ax = fig.add_subplot(1,1,1,projection='3d') # create a 3d type axis \n",
    "ax.plot_surface(alpha_vec, sigma_vec, HFHM_vec, cmap=cm.jet); # create surface plot in the axis\n",
    "ax.set_title('Relative Housework')\n",
    "ax.set_xlabel('$alpha$') # Notice latex syntax\n",
    "ax.set_ylabel('$sigma$')\n",
    "ax.set_zlabel(r'$\\frac{H_{F}}{H_{M}}$')\n",
    "# note: fig.add_subplot(a,b,c) creates the c'th subplot in a grid of a times b plots"
   ]
  },
  {
   "attachments": {},
   "cell_type": "markdown",
   "metadata": {},
   "source": [
    "# Interpretation of Q1\n",
    "The parameter $\\alpha$ represents the share of time spent by the male on the market working. The female's time inpus is raised by $1-\\alpha$. The illustration is a 3D plot that shows the relation between $\\frac{H_F}{H_M}, \\alpha$ and $\\sigma$. The surface creates the relationship between the variables. $\\frac{HF}{HM}$ is the ratio of time spent on hours working at home, where $>1$ indicates that the female member spends more time on house work than the male.  "
   ]
  },
  {
   "attachments": {},
   "cell_type": "markdown",
   "metadata": {},
   "source": [
    "## Question 2 - Discrete time\n",
    "Illustration of $\\log{\\frac{H_M}{H_F}}$ against $\\log{\\frac{w_F}{w_M}}$ for $w_F \\in [0.8, 0.9, 1, 1.1, 1.2]$, where $w_F$ represents the different wages."
   ]
  },
  {
   "cell_type": "code",
   "execution_count": null,
   "metadata": {},
   "outputs": [],
   "source": [
    "# a. reset the parameter values\n",
    "HHS.par.sigma = 1\n",
    "HHS.par.alpha = 0.5 \n",
    "wflist = (0.8, 0.9, 1.0, 1.1,1.2)\n",
    "\n",
    "# b. create the figure\n",
    "fig = plt.figure()\n",
    "\n",
    "# c. create the plot \n",
    "ax = fig.add_subplot(1,1,1)\n",
    "\n",
    "# d. create empty vectors for the independent and dependent values\n",
    "lnwFwM_vec = np.empty(5)\n",
    "lnHFHM_vec = np.empty(5)\n",
    "\n",
    "# e. fill the vectors\n",
    "for i, wf1 in enumerate(wflist):\n",
    "    HHS.par.wF = wf1\n",
    "    lnwFwM = np.log(HHS.par.wF/HHS.par.wM)\n",
    "    x = HHS.solve_discrete()\n",
    "    lnHFHM = np.log(x.HF/x.HM)\n",
    "    lnwFwM_vec[i] = lnwFwM\n",
    "    lnHFHM_vec[i] = lnHFHM\n",
    "\n",
    "# f. plot\n",
    "ax.plot(lnwFwM_vec,lnHFHM_vec) # c is the color, the argument is the color in rgb format (in percentages of 255)    \n",
    "ax.scatter(lnwFwM_vec,lnHFHM_vec)\n",
    "ax.set_title('Relative Housework against Relative Wages')\n",
    "ax.set_xlabel(r'$log\\left(\\frac{w_{F}}{w_{M}}\\right)$')\n",
    "ax.set_ylabel(r'$log\\left(\\frac{H_{F}}{H_{M}}\\right)$')"
   ]
  },
  {
   "attachments": {},
   "cell_type": "markdown",
   "metadata": {},
   "source": [
    "# Interpretation of Q2\n",
    "The illustration from Question 2 shows the relation between the relative wages of woman and man and the relative amount of housework they do. The x-axis shows the log ratio of the womans and the man's work at the wage. The y-axis represents the log ratio of the woman and the man's work at the house. The scatter shows the data points given and the line shows the trend between the data points. We can see a negative relationship between the relative wage and the relative housework. In other words, it suggests that the woman's wages increase relative to the man's wages, their relative share of housework decreases."
   ]
  },
  {
   "attachments": {},
   "cell_type": "markdown",
   "metadata": {},
   "source": [
    "## Question 3 - Continuous time\n",
    "It is now assumes that choice made are continuous and given as $L_M, L_F, H_M, H_F \\in [0,24]."
   ]
  },
  {
   "cell_type": "code",
   "execution_count": null,
   "metadata": {},
   "outputs": [],
   "source": [
    "# a. reset the parameter values\n",
    "HHS.par.sigma = 1\n",
    "HHS.par.alpha = 0.5 \n",
    "wflist = (0.8, 0.9, 1.0, 1.1,1.2)\n",
    "\n",
    "# b. create the figure\n",
    "fig = plt.figure()\n",
    "\n",
    "# c. create the plot \n",
    "ax = fig.add_subplot(1,1,1)\n",
    "\n",
    "# d. create empty vectors for the independent and dependent values\n",
    "lnwFwM_vec = np.empty(5)\n",
    "lnHFHM_vec = np.empty(5)\n",
    "\n",
    "# e. fill the vectors\n",
    "for i, wf1 in enumerate(wflist):\n",
    "    HHS.par.wF = wf1\n",
    "    lnwFwM = np.log(HHS.par.wF/HHS.par.wM)\n",
    "    y = HHS.solve_continue()\n",
    "    lnHFHM = np.log(y.HF/y.HM)\n",
    "    print(lnHFHM)\n",
    "    lnwFwM_vec[i] = lnwFwM\n",
    "    lnHFHM_vec[i] = lnHFHM\n",
    "\n",
    "\n",
    "# f. plot\n",
    "ax.plot(lnwFwM_vec,lnHFHM_vec) # c is the color, the argument is the color in rgb format (in percentages of 255)    \n",
    "ax.scatter(lnwFwM_vec,lnHFHM_vec)\n",
    "ax.set_title('Relative Housework against Relative Wages')\n",
    "ax.set_xlabel(r'$log\\left(\\frac{w_{F}}{w_{M}}\\right)$')\n",
    "ax.set_ylabel(r'$log\\left(\\frac{H_{F}}{H_{M}}\\right)$')"
   ]
  },
  {
   "attachments": {},
   "cell_type": "markdown",
   "metadata": {},
   "source": [
    "# Interpretation of Q3\n",
    "The plot shows the relationship between the log of relative wages ($\\log(w_F/w_M)$) and the log of the magnitude of relative housework ($\\log(H_F/H_M)$) in a household where the female and male have different levels of productivity and face different wage rates. There are 5 points, which is the results from the female wages. As the relative wage ratio increases, the magnitude of relative housework also increases. The slope of the line is negative, indicating a negative relationship between the two variables."
   ]
  },
  {
   "attachments": {},
   "cell_type": "markdown",
   "metadata": {},
   "source": [
    "## Question 4\n",
    "Siminski and Yetsenga (2022) presents the following regression in run on time use data couples:\n",
    "\n",
    "$\\log{\\frac{H_F}{H_M}} = \\beta_0 +\\beta_1 \\log{\\frac{w_F}{w_M}}$\n",
    "\n",
    "and find the best results to be $\\beta_0 \\approx 0.4$ and $\\beta_1 \\approx -0.1$. \n",
    "We are creating a for loop to run through all the combinations of $\\alpha$ and $\\sigma$."
   ]
  },
  {
   "cell_type": "code",
   "execution_count": null,
   "metadata": {},
   "outputs": [],
   "source": [
    "best_res = float('inf')\n",
    "\n",
    "best_alpha = None\n",
    "best_sigma = None\n",
    "best_beta0 = None\n",
    "best_beta1 = None\n",
    "\n",
    "alpha_list = np.linspace(0.1,1,10)\n",
    "sigma_list = np.linspace(0.1,2,20)\n",
    "\n",
    "# a. run Question 3 through a for-loop with varying alpha and sigma values\n",
    "for a in alpha_list:\n",
    "    for s in sigma_list:\n",
    "        HHS = HouseholdSpecializationModelClass()\n",
    "        HHS.par.sigma = a\n",
    "        HHS.par.alpha = s\n",
    "        wflist = (0.8, 0.9, 1.0, 1.1, 1.2)\n",
    "\n",
    "        # b. create empty vectors for the independent and dependent value\n",
    "        lnwFwM_vec = np.empty(5)\n",
    "        lnHFHM_vec = np.empty(5)\n",
    "\n",
    "        # c. fill the vector\n",
    "        for i, wf1 in enumerate(wflist):\n",
    "            HHS.par.wF = wf1\n",
    "            lnwFwM = np.log(HHS.par.wF / HHS.par.wM)\n",
    "            y = HHS.solve_continue()\n",
    "            lnHFHM = np.log(y.HF / y.HM)\n",
    "            lnwFwM_vec[i] = lnwFwM\n",
    "            lnHFHM_vec[i] = lnHFHM\n",
    "        # d. run the regression\n",
    "        x = lnwFwM_vec\n",
    "        y = lnHFHM_vec\n",
    "        A = np.vstack([np.ones(x.size), x]).T\n",
    "        HHS.sol.beta0, HHS.sol.beta1 = np.linalg.lstsq(A, y, rcond=None)[0]\n",
    "        new_res = (0.4 - HHS.sol.beta0) ** 2 + (-0.1 - HHS.sol.beta1) ** 2\n",
    "        # e. check if the sum of the squared errors are smaller than the previous best estimate\n",
    "        if new_res < best_res:\n",
    "            best_res = new_res\n",
    "            best_alpha = a\n",
    "            best_sigma = s\n",
    "            best_beta0 = HHS.sol.beta0\n",
    "            best_beta1 = HHS.sol.beta1\n",
    "\n",
    "# f. print results\n",
    "print(f'The minimizing parameter values are: alpha = {best_alpha:.4f}, sigma = {best_sigma:.4f}\\nwhich results in the beta values: beta0 = {best_beta0:.4f}, beta1 = {best_beta1:.4f}\\nThe sum of the squared errors are therefore: {best_res:.4f}')\n",
    "\n",
    "\n",
    "# g. fill vectors to present the model values of our model and Siminski and Yetsenga (2022) \n",
    "our_values = np.empty(5)\n",
    "Sim_Yet_values = np.empty(5)\n",
    "for i, wf1 in enumerate(wflist):\n",
    "    HHS.par.wF = wf1\n",
    "    lnwFwM = np.log(HHS.par.wF / HHS.par.wM)\n",
    "    our_values[i] = best_beta0+best_beta1*np.log(wf1)\n",
    "    Sim_Yet_values[i] = 0.4-0.1*np.log(wf1)\n",
    "\n",
    "\n",
    "\n",
    "# h. create the figure\n",
    "fig = plt.figure()\n",
    "\n",
    "# i. create the plot \n",
    "ax = fig.add_subplot(1,1,1)\n",
    "\n",
    "ax.plot(lnwFwM_vec,our_values,label='Our',c=(0.,0.1,0.1)) # c is the color, the argument is the color in rgb format (in percentages of 255)    \n",
    "ax.plot(lnwFwM_vec,Sim_Yet_values, label='Sim_Yet',c=(0.,0.1,0.2)) # c is the color, the argument is the color in rgb format (in percentages of 255)    \n",
    "ax.set_title('Relative Housework against Relative Wages')\n",
    "ax.set_xlabel(r'$log\\left(\\frac{w_{F}}{w_{M}}\\right)$')\n",
    "ax.set_ylabel(r'$log\\left(\\frac{H_{F}}{H_{M}}\\right)$')\n",
    "ax.legend(loc='upper right',prop={'size':9}); # Activate legend (uses the labels in ax.plot())"
   ]
  },
  {
   "attachments": {},
   "cell_type": "markdown",
   "metadata": {},
   "source": [
    "## Interpretation of Q4\n",
    "We got the results for the minimizing parameters of $\\alpha = 0.3$ and $\\sigma = 1.7$ and with some approximation of the beta-values of $\\beta_0 = 0.383$ and $\\beta_1 = -0.0$ and the sum of squared errors to be 0.0104."
   ]
  }
 ],
 "metadata": {
  "kernelspec": {
   "display_name": "base",
   "language": "python",
   "name": "python3"
  },
  "language_info": {
   "codemirror_mode": {
    "name": "ipython",
    "version": 3
   },
   "file_extension": ".py",
   "mimetype": "text/x-python",
   "name": "python",
   "nbconvert_exporter": "python",
   "pygments_lexer": "ipython3",
   "version": "3.9.16"
  },
  "orig_nbformat": 4
 },
 "nbformat": 4,
 "nbformat_minor": 2
}
