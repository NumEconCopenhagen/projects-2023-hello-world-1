{
 "cells": [
  {
   "attachments": {},
   "cell_type": "markdown",
   "metadata": {},
   "source": [
    "## Date Project \n",
    "\n",
    "In this project our focus is on applying data and cleaning data, and testing data structuring methods. Hereby, applying data analysis methods known from samfundsbeskrivelse. \n",
    "We have gathered data from the website https://ourworldindata.org/ where we have used the following two datasets: \"Share of adults who drank alcohol in last year, 2016\" and \"life expectancy of women vs life expectancy of men\"."
   ]
  },
  {
   "cell_type": "code",
   "execution_count": null,
   "metadata": {},
   "outputs": [],
   "source": [
    "# Importing modules and packages\n",
    "\n",
    "%matplotlib inline\n",
    "import matplotlib.pyplot as plt\n",
    "import numpy as nd\n",
    "import pandas as pd\n",
    "\n",
    "import os \n",
    "# Using assert to check that paths exist on computer.\n",
    "assert os.path.isdir('data/')\n",
    "assert os.path.isfile('data/lifeexp.xlsx')\n",
    "assert os.path.isfile('data/alconsp.xlsx')\n",
    "\n",
    "# Print everything in data\n",
    "os.listdir('data/')\n",
    "print(lifeexp.columns)"
   ]
  },
  {
   "cell_type": "code",
   "execution_count": null,
   "metadata": {},
   "outputs": [],
   "source": [
    "# Reading in Excelfile from our world in data\n",
    "lifeexp = pd.read_excel('data/lifeexp.xlsx')\n",
    "(lifeexp).head()"
   ]
  },
  {
   "attachments": {},
   "cell_type": "markdown",
   "metadata": {},
   "source": [
    "Since we are only interested in the data in Year 2016, we have to reduce it."
   ]
  },
  {
   "cell_type": "code",
   "execution_count": null,
   "metadata": {},
   "outputs": [],
   "source": [
    "#dropping columns\n",
    "lifeexp.drop(['Continent', 'Code'], axis=1, inplace=True) \n",
    "\n",
    "# renaming the columns using columns dictionary\n",
    "columns_dict={}\n",
    "columns_dict['Entity'] = 'Country'\n",
    "columns_dict['ratio'] = 'FM_ratio'\n",
    "columns_dict['Population (historical estimates)'] = 'Population'\n",
    "columns_dict['Life expectancy - Sex: female - Age: at birth - Variant: estimates']= 'Female_le'\n",
    "columns_dict['Life expectancy - Sex: male - Age: at birth - Variant: estimates'] = 'Male_le'\n",
    "lifeexp.rename(columns=columns_dict,inplace=True)\n",
    "\n",
    "# dropping the NaN values\n",
    "lifeexp = lifeexp.dropna(subset=['Female_le', 'Male_le'])\n",
    "\n",
    "#calculating female male life expectancy ratio\n",
    "lifeexp['FM_le_ratio'] = lifeexp['Female_le']/lifeexp['Male_le']\n",
    "\n",
    "lifeexp.head(20)\n",
    "lifeexp.describe()"
   ]
  },
  {
   "attachments": {},
   "cell_type": "markdown",
   "metadata": {},
   "source": [
    "The Year column has a constant value of 2016. The Female_le and Male_le columns have mean life expectancies of 75.47 and 70.24 years, respectively. The Population column has a mean of 193.56 million, but a very large standard deviation of 855.16 million, indicating that there is a wide range of population sizes in the data. Lastly, the FM_le_ratio column has a mean of 1.07, indicating that, on average, female life expectancy is about 7% higher than male life expectancy."
   ]
  },
  {
   "cell_type": "code",
   "execution_count": null,
   "metadata": {},
   "outputs": [],
   "source": [
    "#extracting population data from the dataset\n",
    "pop = lifeexp['Population ']  \n",
    "\n",
    "# Storing pop as a numpy array: np_pop\n",
    "np.array(pop)\n",
    "# Format population numbers to display in millions\n",
    "np_pop1 = np.array(pop) / 10000000\n",
    "pop_labels = [f'{pop:.2f} million' for pop in np_pop1]\n",
    "\n",
    "#Create scatter plot\n",
    "plt.scatter(lifeexp['Male_le'], lifeexp['Female_le'], s= np_pop1,  alpha=0.5, c= np_pop1, cmap = 'rainbow')\n",
    "\n",
    "# set the x and y-axis limits\n",
    "plt.xlim(50, 90)\n",
    "plt.ylim(50, 90)\n",
    "# Add axis labels\n",
    "plt.xlabel('Male life expectancy')\n",
    "plt.ylabel('Female life expectancy')\n",
    "# Add colorbar legend\n",
    "plt.colorbar(label='Population (millions)')\n",
    "\n",
    "# Add title\n",
    "plt.title('Female Male life expectancy in 2016')\n",
    "\n",
    "# Add 45 degree line\n",
    "plt.plot([0, 100], [0, 100], linestyle='--', color='grey', alpha =0.5)\n",
    "\n",
    "# Add country labelsfor i, row in lifeexp.iterrows():    plt.annotate(row['Entity'], xy=(row['Male_le'], row['Female_le']), xytext=(5, 5), textcoords='offset points', fontsize=8)# After customizing, display the plot\n",
    "plt.figure(figsize=(15, 13))\n",
    "plt.show()"
   ]
  },
  {
   "cell_type": "code",
   "execution_count": null,
   "metadata": {},
   "outputs": [],
   "source": [
    "# Reading in second excelfile from Our world in data\n",
    "alconsp = pd.read_excel('data/alconsp.xlsx')\n",
    "alconsp.head(5)\n",
    "\n",
    "print(alconsp.columns)"
   ]
  },
  {
   "cell_type": "code",
   "execution_count": null,
   "metadata": {},
   "outputs": [],
   "source": [
    "# Creating and renaming columns in dataset in a dictionary\n",
    "columns_dict={}\n",
    "columns_dict['Entity'] = 'Country'\n",
    "columns_dict['Indicator:Alcohol, consumers past 12 months (%) - Sex:Male'] = 'Male_alc'\n",
    "columns_dict['Indicator:Alcohol, consumers past 12 months (%) - Sex:Female']= 'Female_alc'\n",
    "columns_dict['Population (historical estimates)'] = 'Population'\n",
    "alconsp.rename(columns=columns_dict,inplace=True)\n",
    "\n",
    "#dropping columns continent and code\n",
    "alconsp.drop(['Continent','Code'],axis=1,inplace=True)\n",
    "\n",
    "# dropping the NaN values\n",
    "alconsp = alconsp.dropna(subset=['Female_alc', 'Male_alc'])\n",
    "\n",
    "#calculating female male alcohol consumption ratio\n",
    "alconsp['FM_alc_ratio'] = alconsp['Female_alc']/alconsp['Male_alc']\n",
    "\n",
    "alconsp.head(15)"
   ]
  },
  {
   "cell_type": "code",
   "execution_count": null,
   "metadata": {},
   "outputs": [],
   "source": [
    "#extracting population data from the dataset\n",
    "Pop = alconsp.Population\n",
    "\n",
    "# Storing pop as a numpy array: np_pop\n",
    "np.array(Pop)\n",
    "# Format population numbers to display in millions\n",
    "np_pop = np.array(Pop) / 1000000\n",
    "pop_labels = [f'{Pop:.2f} million' for Pop in np_pop]\n",
    "#Create scatter plot\n",
    "plt.scatter(alconsp['Female_alc'], alconsp['Male_alc'], s= np_pop,  alpha=0.5, c= np_pop, cmap = 'rainbow')\n",
    "\n",
    "# Add axis labels\n",
    "plt.xlabel('Female alcohol consumption')\n",
    "plt.ylabel('Male alcohol consumption')\n",
    "# Add colorbar legend\n",
    "plt.colorbar(label='Population (millions)')\n",
    "\n",
    "# Add title\n",
    "plt.title('Female Male alcohol consumption in 2016')\n",
    "\n",
    "# Add 45 degree line\n",
    "plt.plot([0, 100], [0, 100], linestyle='--', color='black', alpha =0.5)\n",
    "\n",
    "# After customizing, display the plot\n",
    "plt.figure(figsize=(10, 8))\n",
    "plt.show()"
   ]
  },
  {
   "attachments": {},
   "cell_type": "markdown",
   "metadata": {},
   "source": [
    "Here we can see that the alcohol consumtion for males are higher than females in all included countries. The bubble chart represents female alcohol consumption on the x-axis and male alcohol consumption on the y-axis. The size and color of the bubbles indicates the population size of each country."
   ]
  },
  {
   "cell_type": "code",
   "execution_count": null,
   "metadata": {},
   "outputs": [],
   "source": [
    "#Descriptive statistics\n",
    "alconsp.describe()"
   ]
  },
  {
   "attachments": {},
   "cell_type": "markdown",
   "metadata": {},
   "source": [
    "The table above shows some statistics on the male and female alcohol consumption, population, and male-to-female alcohol consumption ratio for 188 countries in the year 2016.\n",
    "\n",
    "The table shows that on average, males consume more alcohol than females, with a male-to-female alcohol consumption ratio of 0.52. The standard deviation of male alcohol consumption is higher than that of females. The population ranges from 1,883 to 1.401890e+09, with a mean of 3.936001e+07.\n",
    "\n",
    "These statistics can provide insight into alcohol consumption patterns and their potential impacts on health and society in each of the countries."
   ]
  },
  {
   "cell_type": "code",
   "execution_count": null,
   "metadata": {},
   "outputs": [],
   "source": [
    "alconsp.drop(['Male_alc','Female_alc','Population'],axis=1, inplace= True)\n",
    "lifeexp.drop(['Male_le','Female_le', 'Population '], axis= 1, inplace = True)\n",
    "\n",
    "combined_df = pd.merge(lifeexp,alconsp, on= 'Country', how = 'inner')\n",
    "combined_df.head(15)"
   ]
  },
  {
   "cell_type": "code",
   "execution_count": null,
   "metadata": {},
   "outputs": [],
   "source": [
    "combined_df.drop( 'Year_y', axis=1, inplace=True)\n",
    "combined_df = combined_df.rename(columns= {'Year_x': 'Year'})\n",
    "combined_df = combined_df.dropna()"
   ]
  },
  {
   "cell_type": "code",
   "execution_count": null,
   "metadata": {},
   "outputs": [],
   "source": [
    "combined_df.drop( 'Year_y', axis=1, inplace=True)\n",
    "combined_df = combined_df.rename(columns= {'Year_x': 'Year'})\n",
    "combined_df = combined_df.dropna()\n",
    "combined_df.head(10)"
   ]
  },
  {
   "attachments": {},
   "cell_type": "markdown",
   "metadata": {},
   "source": [
    "From the analysis of the data, we can see that there is a negative correlation between alcohol consumption and life expectancy for both men and women. The data also suggests that women tend to have a longer life expectancy than men on average, and they consume less alcohol than men.\n",
    "\n",
    "The combined data of alcohol consumption and life expectancy for 188 countries in 2016 showed a moderate negative correlation between alcohol consumption and life expectancy for both males and females. The mean alcohol consumption was 49.44 for males and 29.35 for females, with a standard deviation of 25.74 and 21.32, respectively. The mean FM alcohol ratio was 0.52, indicating that on average, males consumed more alcohol than females.\n",
    "\n",
    "After filtering out the countries that was not used, we combined the two data sets.\n",
    "\n",
    "It is important to notice that correlation does not imply causation, and there may be other factors, such as wealth etc., that contributes to life expectancy besides alcohol consumption. Additionally, the data only provides information for the year 2016 and may not be representative of overall trends.\n"
   ]
  }
 ],
 "metadata": {
  "kernelspec": {
   "display_name": "base",
   "language": "python",
   "name": "python3"
  },
  "language_info": {
   "codemirror_mode": {
    "name": "ipython",
    "version": 3
   },
   "file_extension": ".py",
   "mimetype": "text/x-python",
   "name": "python",
   "nbconvert_exporter": "python",
   "pygments_lexer": "ipython3",
   "version": "3.9.16"
  },
  "orig_nbformat": 4
 },
 "nbformat": 4,
 "nbformat_minor": 2
}
